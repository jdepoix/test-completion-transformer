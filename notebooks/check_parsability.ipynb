{
 "cells": [
  {
   "cell_type": "code",
   "execution_count": 1,
   "metadata": {},
   "outputs": [],
   "source": [
    "import sys\n",
    "sys.path.append('../src')"
   ]
  },
  {
   "cell_type": "code",
   "execution_count": 2,
   "metadata": {},
   "outputs": [],
   "source": [
    "dataset_path = '../data/test_data/validate.jsonl'\n",
    "ids_path = '../data/test_data/validate.ids.jsonl'"
   ]
  },
  {
   "cell_type": "code",
   "execution_count": 3,
   "metadata": {},
   "outputs": [],
   "source": [
    "from data import Vocab\n",
    "vocab = Vocab('../data/test_data/bpe_ast_vocab.txt')"
   ]
  },
  {
   "cell_type": "code",
   "execution_count": 4,
   "metadata": {},
   "outputs": [],
   "source": [
    "from bpe import BpeProcessor\n",
    "bpe_processor = BpeProcessor('../data/test_data/bpe_model/ast_values.model')"
   ]
  },
  {
   "cell_type": "code",
   "execution_count": 5,
   "metadata": {},
   "outputs": [],
   "source": [
    "from model import GwtSectionPredictionTransformer\n",
    "model = GwtSectionPredictionTransformer.load_from_checkpoint('../data/models/default.ckpt')"
   ]
  },
  {
   "cell_type": "code",
   "execution_count": 6,
   "metadata": {},
   "outputs": [],
   "source": [
    "from predict import ThenSectionPredictor\n",
    "predictor = ThenSectionPredictor(\n",
    "    model, \n",
    "    vocab.get_index(vocab.SOS_TOKEN),\n",
    "    vocab.get_index(vocab.EOS_TOKEN),\n",
    "    512,\n",
    ")"
   ]
  },
  {
   "cell_type": "code",
   "execution_count": 9,
   "metadata": {},
   "outputs": [],
   "source": []
  },
  {
   "cell_type": "code",
   "execution_count": 7,
   "metadata": {},
   "outputs": [],
   "source": [
    "import json\n",
    "dataset = []\n",
    "with open(dataset_path) as f:\n",
    "    for l in f:\n",
    "        dataset.append(json.loads(l)[0])\n",
    "ids = open(ids_path).readlines()"
   ]
  },
  {
   "cell_type": "code",
   "execution_count": 16,
   "metadata": {},
   "outputs": [
    {
     "ename": "SyntaxError",
     "evalue": "EOL while scanning string literal (<ipython-input-16-007e5e36b137>, line 12)",
     "output_type": "error",
     "traceback": [
      "\u001B[0;36m  File \u001B[0;32m\"<ipython-input-16-007e5e36b137>\"\u001B[0;36m, line \u001B[0;32m12\u001B[0m\n\u001B[0;31m    if i % 100 == 0\"\u001B[0m\n\u001B[0m                    ^\u001B[0m\n\u001B[0;31mSyntaxError\u001B[0m\u001B[0;31m:\u001B[0m EOL while scanning string literal\n"
     ]
    }
   ],
   "source": [
    "parsed_counter = 0\n",
    "failed = []\n",
    "for i, data in enumerate(dataset):\n",
    "    try:\n",
    "        prediction = predictor.predict(data)\n",
    "        decoded_prediction = vocab.decode(prediction)\n",
    "        decoded_sequence = bpe_processor.decode(decoded_prediction)\n",
    "        sequentialization_client.parse_then_sequence_to_code(decoded_sequence)\n",
    "    except Exception as e:\n",
    "        failed.append((i, e))\n",
    "        \n",
    "    if i % 100 == 0:\n",
    "        print(f'parsed {i} entries: succesfull={parsed_counter}, failed={len(failed)}')"
   ]
  },
  {
   "cell_type": "code",
   "execution_count": null,
   "metadata": {},
   "outputs": [],
   "source": []
  }
 ],
 "metadata": {
  "kernelspec": {
   "display_name": "Python 3",
   "language": "python",
   "name": "python3"
  },
  "language_info": {
   "codemirror_mode": {
    "name": "ipython",
    "version": 3
   },
   "file_extension": ".py",
   "mimetype": "text/x-python",
   "name": "python",
   "nbconvert_exporter": "python",
   "pygments_lexer": "ipython3",
   "version": "3.8.1"
  }
 },
 "nbformat": 4,
 "nbformat_minor": 4
}