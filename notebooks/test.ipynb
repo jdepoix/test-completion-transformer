{
 "cells": [
  {
   "cell_type": "code",
   "execution_count": 1,
   "metadata": {},
   "outputs": [],
   "source": [
    "import sqlite3\n",
    "\n",
    "\n",
    "def retrieve_repo_test_counts(database_path, when_location):\n",
    "    with sqlite3.connect(database_path) as connection:\n",
    "        return connection.cursor().execute(\n",
    "            'SELECT repo_name, count(*) AS test_count '\n",
    "            'FROM test_relations '\n",
    "            'WHERE when_location=\\'GIVEN\\' '\n",
    "            'GROUP BY repo_name '\n",
    "            'ORDER BY test_count DESC'\n",
    "        ).fetchall()\n",
    "\n",
    "\n",
    "def split_repos(repo_test_counts, split_distribution):\n",
    "    splits = ({'repos': [], 'size': 0}, {'repos': [], 'size': 0}, {'repos': [], 'size': 0})\n",
    "    distributed_count = 0\n",
    "\n",
    "    for repo_name, test_count in repo_test_counts:\n",
    "        relevant_split_index = next(\n",
    "            (\n",
    "                split_index for split_index, split in enumerate(splits)\n",
    "                if distributed_count != 0 and split['size']/distributed_count < split_distribution[split_index]\n",
    "            ),\n",
    "            0\n",
    "        )\n",
    "        splits[relevant_split_index]['repos'].append(repo_name)\n",
    "        splits[relevant_split_index]['size'] += test_count\n",
    "        distributed_count += test_count\n",
    "\n",
    "    return splits\n",
    "\n",
    "\n",
    "def create_data_split(database_path, when_location, split):\n",
    "    assert len(split) == 3\n",
    "    assert sum(split) == 1\n",
    "\n",
    "    repo_test_counts = retrieve_repo_test_counts(database_path, when_location)\n",
    "    return split_repos(repo_test_counts, split)"
   ]
  },
  {
   "cell_type": "code",
   "execution_count": 4,
   "metadata": {},
   "outputs": [
    {
     "ename": "OperationalError",
     "evalue": "unable to open database file",
     "output_type": "error",
     "traceback": [
      "\u001b[0;31m---------------------------------------------------------------------------\u001b[0m",
      "\u001b[0;31mOperationalError\u001b[0m                          Traceback (most recent call last)",
      "\u001b[0;32m<ipython-input-4-d0478add5fb5>\u001b[0m in \u001b[0;36m<module>\u001b[0;34m\u001b[0m\n\u001b[0;32m----> 1\u001b[0;31m \u001b[0msplit\u001b[0m \u001b[0;34m=\u001b[0m \u001b[0mcreate_data_split\u001b[0m\u001b[0;34m(\u001b[0m\u001b[0;34m'/home/user/jdepoix/data/test_relations_index.sqlite'\u001b[0m\u001b[0;34m,\u001b[0m \u001b[0;34m'WHEN'\u001b[0m\u001b[0;34m,\u001b[0m \u001b[0;34m(\u001b[0m\u001b[0;36m.8\u001b[0m\u001b[0;34m,\u001b[0m\u001b[0;36m.1\u001b[0m\u001b[0;34m,\u001b[0m\u001b[0;36m.1\u001b[0m\u001b[0;34m)\u001b[0m\u001b[0;34m)\u001b[0m\u001b[0;34m\u001b[0m\u001b[0;34m\u001b[0m\u001b[0m\n\u001b[0m",
      "\u001b[0;32m<ipython-input-1-99c7920624a1>\u001b[0m in \u001b[0;36mcreate_data_split\u001b[0;34m(database_path, when_location, split)\u001b[0m\n\u001b[1;32m     36\u001b[0m     \u001b[0;32massert\u001b[0m \u001b[0msum\u001b[0m\u001b[0;34m(\u001b[0m\u001b[0msplit\u001b[0m\u001b[0;34m)\u001b[0m \u001b[0;34m==\u001b[0m \u001b[0;36m1\u001b[0m\u001b[0;34m\u001b[0m\u001b[0;34m\u001b[0m\u001b[0m\n\u001b[1;32m     37\u001b[0m \u001b[0;34m\u001b[0m\u001b[0m\n\u001b[0;32m---> 38\u001b[0;31m     \u001b[0mrepo_test_counts\u001b[0m \u001b[0;34m=\u001b[0m \u001b[0mretrieve_repo_test_counts\u001b[0m\u001b[0;34m(\u001b[0m\u001b[0mdatabase_path\u001b[0m\u001b[0;34m,\u001b[0m \u001b[0mwhen_location\u001b[0m\u001b[0;34m)\u001b[0m\u001b[0;34m\u001b[0m\u001b[0;34m\u001b[0m\u001b[0m\n\u001b[0m\u001b[1;32m     39\u001b[0m     \u001b[0;32mreturn\u001b[0m \u001b[0msplit_repos\u001b[0m\u001b[0;34m(\u001b[0m\u001b[0mrepo_test_counts\u001b[0m\u001b[0;34m,\u001b[0m \u001b[0msplit\u001b[0m\u001b[0;34m)\u001b[0m\u001b[0;34m\u001b[0m\u001b[0;34m\u001b[0m\u001b[0m\n",
      "\u001b[0;32m<ipython-input-1-99c7920624a1>\u001b[0m in \u001b[0;36mretrieve_repo_test_counts\u001b[0;34m(database_path, when_location)\u001b[0m\n\u001b[1;32m      3\u001b[0m \u001b[0;34m\u001b[0m\u001b[0m\n\u001b[1;32m      4\u001b[0m \u001b[0;32mdef\u001b[0m \u001b[0mretrieve_repo_test_counts\u001b[0m\u001b[0;34m(\u001b[0m\u001b[0mdatabase_path\u001b[0m\u001b[0;34m,\u001b[0m \u001b[0mwhen_location\u001b[0m\u001b[0;34m)\u001b[0m\u001b[0;34m:\u001b[0m\u001b[0;34m\u001b[0m\u001b[0;34m\u001b[0m\u001b[0m\n\u001b[0;32m----> 5\u001b[0;31m     \u001b[0;32mwith\u001b[0m \u001b[0msqlite3\u001b[0m\u001b[0;34m.\u001b[0m\u001b[0mconnect\u001b[0m\u001b[0;34m(\u001b[0m\u001b[0mdatabase_path\u001b[0m\u001b[0;34m)\u001b[0m \u001b[0;32mas\u001b[0m \u001b[0mconnection\u001b[0m\u001b[0;34m:\u001b[0m\u001b[0;34m\u001b[0m\u001b[0;34m\u001b[0m\u001b[0m\n\u001b[0m\u001b[1;32m      6\u001b[0m         return connection.cursor().execute(\n\u001b[1;32m      7\u001b[0m             \u001b[0;34m'SELECT repo_name, count(*) AS test_count '\u001b[0m\u001b[0;34m\u001b[0m\u001b[0;34m\u001b[0m\u001b[0m\n",
      "\u001b[0;31mOperationalError\u001b[0m: unable to open database file"
     ]
    }
   ],
   "source": [
    "split = create_data_split('/home/user/jdepoix/data/test_relations_index.sqlite', 'WHEN', (.8,.1,.1))"
   ]
  },
  {
   "cell_type": "code",
   "execution_count": null,
   "metadata": {},
   "outputs": [],
   "source": []
  }
 ],
 "metadata": {
  "kernelspec": {
   "display_name": "Python 3",
   "language": "python",
   "name": "python3"
  },
  "language_info": {
   "codemirror_mode": {
    "name": "ipython",
    "version": 3
   },
   "file_extension": ".py",
   "mimetype": "text/x-python",
   "name": "python",
   "nbconvert_exporter": "python",
   "pygments_lexer": "ipython3",
   "version": "3.8.1"
  }
 },
 "nbformat": 4,
 "nbformat_minor": 4
}
